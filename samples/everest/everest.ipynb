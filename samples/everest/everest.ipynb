{
 "cells": [
  {
   "cell_type": "raw",
   "metadata": {},
   "source": [
    "основные операции при работе с платформой Everest и препроцессором Templet в JupyterLab"
   ]
  },
  {
   "cell_type": "raw",
   "metadata": {},
   "source": [
    "1) обработка cpp-файла препроцессором Templet"
   ]
  },
  {
   "cell_type": "code",
   "execution_count": null,
   "metadata": {},
   "outputs": [],
   "source": [
    "#include <stdlib.h>\n",
    "#include <iostream>\n",
    "#include <fstream>\n",
    "#include <string>\n",
    "using namespace std;\n",
    "{\n",
    "    // замените everest на имя вашего файла, замените -deploy на -design, если используется режим проектирования(только компиляция) \n",
    "    bool op1 = (system(\"~/bin/gen -deploy everest.cpp everest.dsg.cpp > out1.txt\")==0);\n",
    "    bool op2 = op1 ? (system(\"~/bin/skel -i everest.cpp -s everest.dsg.cpp > out2.txt\")==0):false;\n",
    "    if(op2) cout << \"preprocessing is Ok:\\n\\n\"; else  cout << \"preprocessing failed:\\n\\n\"; \n",
    "    {ifstream file(\"out1.txt\"); for (string line; getline(file, line); ){cout << line << endl;} }\n",
    "    if(op1){cout << endl; ifstream file(\"out2.txt\"); for (string line; getline(file, line); ){cout << line << endl;} }\n",
    "}"
   ]
  },
  {
   "cell_type": "raw",
   "metadata": {},
   "source": [
    "2) компиляция и компоновка многозадачного Everest-приложения"
   ]
  },
  {
   "cell_type": "code",
   "execution_count": null,
   "metadata": {},
   "outputs": [],
   "source": [
    "#include <stdlib.h>\n",
    "#include <iostream>\n",
    "#include <fstream>\n",
    "#include <string>\n",
    "using namespace std;\n",
    "{\n",
    "    // замените everest на имя вашего файла\n",
    "    system(\"g++ everest.cpp -l curl -I ~/lib -o many-tasks 2> out3.txt\");\n",
    "    ifstream file(\"out3.txt\"); bool ok=true; for (string line; getline(file, line); ){cout << line << endl; ok = false;}\n",
    "    if(ok)cout << \"Compilation is Ok\";\n",
    "} "
   ]
  },
  {
   "cell_type": "raw",
   "metadata": {},
   "source": [
    "3) запуск Everest-сессии, выполните эту ячейку после рестарта ядра для выполнения операций 4-9\n",
    "   не забудьте закрыть сессию, выполнив операцию 10 "
   ]
  },
  {
   "cell_type": "code",
   "execution_count": null,
   "metadata": {},
   "outputs": [],
   "source": [
    "#pragma cling load(\"libcurl\")\n",
    "#include \"../../lib/everest.hpp\"\n",
    "#include <iostream>\n",
    "using namespace TEMPLET;\n",
    "using namespace std;\n",
    "taskengine* eng=new taskengine(\"login\", \"password\"); // ваш login и password в системе Everest"
   ]
  },
  {
   "cell_type": "raw",
   "metadata": {},
   "source": [
    "4) получение токена сессии, используйте токен в Everest-приложениях чтобы не раскрывать ваш login/password"
   ]
  },
  {
   "cell_type": "code",
   "execution_count": null,
   "metadata": {},
   "outputs": [],
   "source": [
    "{string token; eng->get_access_token(token); cout << token;}"
   ]
  },
  {
   "cell_type": "raw",
   "metadata": {},
   "source": [
    "5) получение информации об Everest-приложении по имени, используйте id приложения для запуска задач"
   ]
  },
  {
   "cell_type": "code",
   "execution_count": null,
   "metadata": {},
   "outputs": [],
   "source": [
    "eng->get_app_description(\"application_name\"); // замените application_name на имя вашего приложения"
   ]
  },
  {
   "cell_type": "raw",
   "metadata": {},
   "source": [
    "6) запуск задачи"
   ]
  },
  {
   "cell_type": "raw",
   "metadata": {},
   "source": [
    "7) получение списка файлов Everest для заданного login-а и password-а"
   ]
  },
  {
   "cell_type": "raw",
   "metadata": {},
   "source": [
    "8) выгрузка файла из Everest на данную машину  "
   ]
  },
  {
   "cell_type": "raw",
   "metadata": {},
   "source": [
    "9) загрузка файла с данной машины на Everest "
   ]
  },
  {
   "cell_type": "raw",
   "metadata": {},
   "source": [
    "10) закрытие сессии"
   ]
  },
  {
   "cell_type": "code",
   "execution_count": null,
   "metadata": {},
   "outputs": [],
   "source": [
    "delete eng; eng = 0;"
   ]
  },
  {
   "cell_type": "code",
   "execution_count": null,
   "metadata": {},
   "outputs": [],
   "source": []
  }
 ],
 "metadata": {
  "kernelspec": {
   "display_name": "C++14",
   "language": "C++14",
   "name": "xcpp14"
  },
  "language_info": {
   "codemirror_mode": "text/x-c++src",
   "file_extension": ".cpp",
   "mimetype": "text/x-c++src",
   "name": "c++",
   "version": "14"
  }
 },
 "nbformat": 4,
 "nbformat_minor": 4
}
